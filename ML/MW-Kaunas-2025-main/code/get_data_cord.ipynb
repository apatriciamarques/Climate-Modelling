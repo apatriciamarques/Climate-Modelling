{
 "cells": [
  {
   "metadata": {
    "ExecuteTime": {
     "end_time": "2025-07-01T08:21:32.587948Z",
     "start_time": "2025-07-01T08:21:32.566939Z"
    }
   },
   "cell_type": "code",
   "source": [
    "import pandas as pd\n",
    "import os\n",
    "import requests\n",
    "import pandas as pd\n",
    "from typing import List, Dict"
   ],
   "id": "cc603004681479ac",
   "outputs": [],
   "execution_count": 22
  },
  {
   "metadata": {
    "ExecuteTime": {
     "end_time": "2025-07-01T08:30:02.209716Z",
     "start_time": "2025-07-01T08:30:02.180039Z"
    }
   },
   "cell_type": "code",
   "source": [
    "data_processed_path = os.path.join('..','data','processed')\n",
    "data_cleaned_path = os.path.join('..','data','cleaned')\n",
    "stations_lithuania = pd.read_csv('../notes/lithuanian_road_distances.csv')\n"
   ],
   "id": "41e3ec1977db2654",
   "outputs": [],
   "execution_count": 35
  },
  {
   "metadata": {
    "ExecuteTime": {
     "end_time": "2025-07-01T08:42:07.604736Z",
     "start_time": "2025-07-01T08:42:07.070708Z"
    }
   },
   "cell_type": "code",
   "source": [
    "class LithuanianWeatherAPI:\n",
    "    \"\"\"API meteo.lt\"\"\"\n",
    "\n",
    "    def __init__(self):\n",
    "        self.base_url = \"https://api.meteo.lt/v1\"\n",
    "        self.session = requests.Session()\n",
    "        self.session.headers.update({\n",
    "            'User-Agent': 'StationListDownloader/1.0',\n",
    "            'Accept': 'application/json'\n",
    "        })\n",
    "\n",
    "    def get_stations(self) -> List[Dict]:\n",
    "        \"\"\"List of all meteostation\"\"\"\n",
    "        print(\"Downloading the list of stations...\")\n",
    "        try:\n",
    "            response = self.session.get(f\"{self.base_url}/stations\")\n",
    "            response.raise_for_status()  # Raise an exception for bad status codes\n",
    "            stations = response.json()\n",
    "            print(f\"Found {len(stations)} stations.\")\n",
    "            return stations\n",
    "        except requests.exceptions.RequestException as e:\n",
    "            print(f\"Error downloading stations: {e}\")\n",
    "            return []\n",
    "\n",
    "def download_and_save_station_list():\n",
    "    api = LithuanianWeatherAPI()\n",
    "    stations_raw = api.get_stations()\n",
    "\n",
    "    if not stations_raw:\n",
    "        print(\"Could not retrieve station list. Exiting.\")\n",
    "        return\n",
    "\n",
    "    print(\"\\nProcessing station data...\")\n",
    "    stations_processed = []\n",
    "    for station in stations_raw:\n",
    "        # Використовуємо .get() для безпечного доступу до даних\n",
    "        coords = station.get('coordinates', {})\n",
    "        stations_processed.append({\n",
    "            'code': station.get('code'),\n",
    "            'name': station.get('name'),\n",
    "            'latitude': coords.get('latitude'),\n",
    "            'longitude': coords.get('longitude')\n",
    "        })\n",
    "\n",
    "    df = pd.DataFrame(stations_processed)\n",
    "    output_filename = '../data/raw/lithuanian_weather_stations.csv'\n",
    "    try:\n",
    "        df.to_csv(output_filename, encoding='utf-8-sig')\n",
    "        print(f\"Station list successfully saved to: {output_filename}\")\n",
    "    except Exception as e:\n",
    "        print(f\"Failed to save file: {e}\")\n",
    "\n",
    "    print(\"\\n List of Weather Stations and Coordinates:\")\n",
    "    print(df)\n",
    "\n",
    "\n",
    "if __name__ == \"__main__\":\n",
    "    download_and_save_station_list()"
   ],
   "id": "57a7b1984d9f0310",
   "outputs": [
    {
     "name": "stdout",
     "output_type": "stream",
     "text": [
      "Downloading the list of stations...\n",
      "Found 52 stations.\n",
      "\n",
      "Processing station data...\n",
      "Station list successfully saved to: ../data/raw/lithuanian_weather_stations.csv\n",
      "\n",
      " List of Weather Stations and Coordinates:\n",
      "                code              name   latitude  longitude\n",
      "0        akmenes-ams       Akmenės AMS  56.249920  22.730810\n",
      "1        alytaus-ams       Alytaus AMS  54.412435  24.063274\n",
      "2       anyksciu-ams      Anykščių AMS  55.517350  25.117800\n",
      "3       birstono-ams      Birštono AMS  54.603217  24.035802\n",
      "4          birzu-ams         Biržų AMS  56.193191  24.774184\n",
      "5       dotnuvos-ams      Dotnuvos AMS  55.395993  23.866224\n",
      "6    druskininku-ams   Druskininkų AMS  54.018202  23.980791\n",
      "7         duksto-ams        Dūkšto AMS  55.517856  26.316140\n",
      "8      elektrenu-ams     Elektrėnų AMS  54.786161  24.689854\n",
      "9        jonavos-ams       Jonavos AMS  55.069130  24.277147\n",
      "10      joniskio-ams      Joniškio AMS  56.246354  23.630755\n",
      "11      jurbarko-ams      Jurbarko AMS  55.094064  22.773518\n",
      "12   kaisiadoriu-ams   Kaišiadorių AMS  54.856942  24.437842\n",
      "13    kalvarijos-ams    Kalvarijos AMS  54.421564  23.216806\n",
      "14         kauno-ams         Kauno AMS  54.883960  23.835880\n",
      "15   kazlu-rudos-ams   Kazlų Rūdos AMS  54.699852  23.514815\n",
      "16        kelmes-ams        Kelmės AMS  55.629044  22.934568\n",
      "17     klaipedos-ams     Klaipėdos AMS  55.731350  21.091570\n",
      "18     kretingos-ams     Kretingos AMS  55.894089  21.273060\n",
      "19      kupiskio-ams      Kupiškio AMS  55.851591  24.909266\n",
      "20       kybartu-ams       Kybartų AMS  54.633167  22.783011\n",
      "21      laukuvos-ams      Laukuvos AMS  55.608860  22.239463\n",
      "22       lazdiju-ams       Lazdijų AMS  54.232210  23.510680\n",
      "23  marijampoles-ams  Marijampolės AMS  54.528855  23.351810\n",
      "24      mazeikiu-ams      Mažeikių AMS  56.353885  22.317683\n",
      "25        moletu-ams        Molėtų AMS  55.235244  25.416378\n",
      "26         nidos-ams         Nidos AMS  55.302210  21.007360\n",
      "27       pagegiu-ams       Pagėgių AMS  55.140898  21.950386\n",
      "28      pakruojo-ams      Pakruojo AMS  56.083488  23.902854\n",
      "29     panevezio-ams     Panevėžio AMS  55.735154  24.417184\n",
      "30       plunges-ams       Plungės AMS  55.907014  21.866687\n",
      "31        prienu-ams        Prienų AMS  54.729100  24.052500\n",
      "32      raseiniu-ams      Raseinių AMS  55.394569  23.133073\n",
      "33       rietavo-ams       Rietavo AMS  55.718091  21.958142\n",
      "34      rokiskio-ams      Rokiškio AMS  55.954980  25.591490\n",
      "35         sakiu-ams         Šakių AMS  54.949070  23.036425\n",
      "36    salcininku-ams    Šalčininkų AMS  54.310380  25.374422\n",
      "37       seduvos-ams       Šeduvos AMS  55.754660  23.742450\n",
      "38       siauliu-ams       Šiaulių AMS  55.942222  23.331111\n",
      "39       silutes-ams       Šilutės AMS  55.352222  21.446944\n",
      "40        skuodo-ams        Skuodo AMS  56.277213  21.513962\n",
      "41    svencioniu-ams    Švenčionių AMS  55.132777  26.172895\n",
      "42      taurages-ams      Tauragės AMS  55.256786  22.278020\n",
      "43        telsiu-ams        Telšių AMS  55.991245  22.256657\n",
      "44         traku-ams         Trakų AMS  54.615924  24.785292\n",
      "45      ukmerges-ams      Ukmergės AMS  55.264145  24.760335\n",
      "46        utenos-ams        Utenos AMS  55.515321  25.589692\n",
      "47       varenos-ams       Varėnos AMS  54.248271  24.551760\n",
      "48        ventes-ams        Ventės AMS  55.340853  21.189682\n",
      "49      vezaiciu-ams      Vėžaičių AMS  55.720500  21.474300\n",
      "50      vilniaus-ams      Vilniaus AMS  54.625992  25.107064\n",
      "51        zarasu-ams        Zarasų AMS  55.742673  26.250977\n"
     ]
    }
   ],
   "execution_count": 48
  },
  {
   "metadata": {},
   "cell_type": "markdown",
   "source": "",
   "id": "dc8d7d27a89c3dae"
  },
  {
   "metadata": {
    "ExecuteTime": {
     "end_time": "2025-07-01T08:44:25.965454Z",
     "start_time": "2025-07-01T08:44:25.911469Z"
    }
   },
   "cell_type": "code",
   "source": "stations_lithuania1 = pd.read_csv('../data/raw/lithuanian_weather_stations.csv')",
   "id": "d656df436e90535a",
   "outputs": [],
   "execution_count": 55
  },
  {
   "metadata": {
    "ExecuteTime": {
     "end_time": "2025-07-01T08:47:25.557869Z",
     "start_time": "2025-07-01T08:47:25.512790Z"
    }
   },
   "cell_type": "code",
   "source": [
    "df_copy2 = stations_lithuania1.copy()\n",
    "df_copy2.drop('Unnamed: 0', axis=1, inplace=True)\n",
    "df_copy2['name'] = df_copy2['name'].str.replace(' AMS', '', regex=False)\n",
    "df_copy2.head()\n"
   ],
   "id": "5a52be46a3226543",
   "outputs": [
    {
     "data": {
      "text/plain": [
       "           code      name   latitude  longitude\n",
       "0   akmenes-ams   Akmenės  56.249920  22.730810\n",
       "1   alytaus-ams   Alytaus  54.412435  24.063274\n",
       "2  anyksciu-ams  Anykščių  55.517350  25.117800\n",
       "3  birstono-ams  Birštono  54.603217  24.035802\n",
       "4     birzu-ams     Biržų  56.193191  24.774184"
      ],
      "text/html": [
       "<div>\n",
       "<style scoped>\n",
       "    .dataframe tbody tr th:only-of-type {\n",
       "        vertical-align: middle;\n",
       "    }\n",
       "\n",
       "    .dataframe tbody tr th {\n",
       "        vertical-align: top;\n",
       "    }\n",
       "\n",
       "    .dataframe thead th {\n",
       "        text-align: right;\n",
       "    }\n",
       "</style>\n",
       "<table border=\"1\" class=\"dataframe\">\n",
       "  <thead>\n",
       "    <tr style=\"text-align: right;\">\n",
       "      <th></th>\n",
       "      <th>code</th>\n",
       "      <th>name</th>\n",
       "      <th>latitude</th>\n",
       "      <th>longitude</th>\n",
       "    </tr>\n",
       "  </thead>\n",
       "  <tbody>\n",
       "    <tr>\n",
       "      <th>0</th>\n",
       "      <td>akmenes-ams</td>\n",
       "      <td>Akmenės</td>\n",
       "      <td>56.249920</td>\n",
       "      <td>22.730810</td>\n",
       "    </tr>\n",
       "    <tr>\n",
       "      <th>1</th>\n",
       "      <td>alytaus-ams</td>\n",
       "      <td>Alytaus</td>\n",
       "      <td>54.412435</td>\n",
       "      <td>24.063274</td>\n",
       "    </tr>\n",
       "    <tr>\n",
       "      <th>2</th>\n",
       "      <td>anyksciu-ams</td>\n",
       "      <td>Anykščių</td>\n",
       "      <td>55.517350</td>\n",
       "      <td>25.117800</td>\n",
       "    </tr>\n",
       "    <tr>\n",
       "      <th>3</th>\n",
       "      <td>birstono-ams</td>\n",
       "      <td>Birštono</td>\n",
       "      <td>54.603217</td>\n",
       "      <td>24.035802</td>\n",
       "    </tr>\n",
       "    <tr>\n",
       "      <th>4</th>\n",
       "      <td>birzu-ams</td>\n",
       "      <td>Biržų</td>\n",
       "      <td>56.193191</td>\n",
       "      <td>24.774184</td>\n",
       "    </tr>\n",
       "  </tbody>\n",
       "</table>\n",
       "</div>"
      ]
     },
     "execution_count": 63,
     "metadata": {},
     "output_type": "execute_result"
    }
   ],
   "execution_count": 63
  },
  {
   "metadata": {
    "ExecuteTime": {
     "end_time": "2025-07-01T08:30:05.460092Z",
     "start_time": "2025-07-01T08:30:05.433373Z"
    }
   },
   "cell_type": "code",
   "source": [
    "df_copy1 = df_copy2.copy()\n",
    "print(df_copy1.columns)"
   ],
   "id": "852caf79bf4e867b",
   "outputs": [
    {
     "name": "stdout",
     "output_type": "stream",
     "text": [
      "Index(['group_id', 'road_path', 'total_distance_km', 'segment_distances'], dtype='object')\n"
     ]
    }
   ],
   "execution_count": 36
  },
  {
   "metadata": {
    "ExecuteTime": {
     "end_time": "2025-07-01T08:30:07.044721Z",
     "start_time": "2025-07-01T08:30:06.916331Z"
    }
   },
   "cell_type": "code",
   "source": [
    "df_copy1['group_number'] = df_copy1['group_id'].str.extract('(\\d+)').astype(int)\n",
    "df_copy1.head()"
   ],
   "id": "b00111ccbb6ff833",
   "outputs": [
    {
     "data": {
      "text/plain": [
       "             group_id                                   road_path  \\\n",
       "0  Group 1 (Vertical)   Nidos -> Ventės -> Klaipėdos -> Kretingos   \n",
       "1  Group 2 (Vertical)               Šilutės -> Vėžaičių -> Skuodo   \n",
       "2  Group 3 (Vertical)               Plungės -> Rietavo -> Pagėgių   \n",
       "3  Group 4 (Vertical)  Laukuvos -> Tauragės -> Telšių -> Mažeikių   \n",
       "4  Group 5 (Vertical)    Akmenės -> Kelmės -> Jurbarko -> Kybartų   \n",
       "\n",
       "   total_distance_km                                  segment_distances  \\\n",
       "0              77.66  Nidos -> Ventės: 12.35 km; Ventės -> Klaipėdos...   \n",
       "1             103.07  Šilutės -> Vėžaičių: 41.04 km; Vėžaičių -> Sku...   \n",
       "2              86.06  Plungės -> Rietavo: 21.80 km; Rietavo -> Pagėg...   \n",
       "3             161.61  Laukuvos -> Tauragės: 39.27 km; Tauragės -> Te...   \n",
       "4             182.03  Akmenės -> Kelmės: 70.29 km; Kelmės -> Jurbark...   \n",
       "\n",
       "   group_number  \n",
       "0             1  \n",
       "1             2  \n",
       "2             3  \n",
       "3             4  \n",
       "4             5  "
      ],
      "text/html": [
       "<div>\n",
       "<style scoped>\n",
       "    .dataframe tbody tr th:only-of-type {\n",
       "        vertical-align: middle;\n",
       "    }\n",
       "\n",
       "    .dataframe tbody tr th {\n",
       "        vertical-align: top;\n",
       "    }\n",
       "\n",
       "    .dataframe thead th {\n",
       "        text-align: right;\n",
       "    }\n",
       "</style>\n",
       "<table border=\"1\" class=\"dataframe\">\n",
       "  <thead>\n",
       "    <tr style=\"text-align: right;\">\n",
       "      <th></th>\n",
       "      <th>group_id</th>\n",
       "      <th>road_path</th>\n",
       "      <th>total_distance_km</th>\n",
       "      <th>segment_distances</th>\n",
       "      <th>group_number</th>\n",
       "    </tr>\n",
       "  </thead>\n",
       "  <tbody>\n",
       "    <tr>\n",
       "      <th>0</th>\n",
       "      <td>Group 1 (Vertical)</td>\n",
       "      <td>Nidos -&gt; Ventės -&gt; Klaipėdos -&gt; Kretingos</td>\n",
       "      <td>77.66</td>\n",
       "      <td>Nidos -&gt; Ventės: 12.35 km; Ventės -&gt; Klaipėdos...</td>\n",
       "      <td>1</td>\n",
       "    </tr>\n",
       "    <tr>\n",
       "      <th>1</th>\n",
       "      <td>Group 2 (Vertical)</td>\n",
       "      <td>Šilutės -&gt; Vėžaičių -&gt; Skuodo</td>\n",
       "      <td>103.07</td>\n",
       "      <td>Šilutės -&gt; Vėžaičių: 41.04 km; Vėžaičių -&gt; Sku...</td>\n",
       "      <td>2</td>\n",
       "    </tr>\n",
       "    <tr>\n",
       "      <th>2</th>\n",
       "      <td>Group 3 (Vertical)</td>\n",
       "      <td>Plungės -&gt; Rietavo -&gt; Pagėgių</td>\n",
       "      <td>86.06</td>\n",
       "      <td>Plungės -&gt; Rietavo: 21.80 km; Rietavo -&gt; Pagėg...</td>\n",
       "      <td>3</td>\n",
       "    </tr>\n",
       "    <tr>\n",
       "      <th>3</th>\n",
       "      <td>Group 4 (Vertical)</td>\n",
       "      <td>Laukuvos -&gt; Tauragės -&gt; Telšių -&gt; Mažeikių</td>\n",
       "      <td>161.61</td>\n",
       "      <td>Laukuvos -&gt; Tauragės: 39.27 km; Tauragės -&gt; Te...</td>\n",
       "      <td>4</td>\n",
       "    </tr>\n",
       "    <tr>\n",
       "      <th>4</th>\n",
       "      <td>Group 5 (Vertical)</td>\n",
       "      <td>Akmenės -&gt; Kelmės -&gt; Jurbarko -&gt; Kybartų</td>\n",
       "      <td>182.03</td>\n",
       "      <td>Akmenės -&gt; Kelmės: 70.29 km; Kelmės -&gt; Jurbark...</td>\n",
       "      <td>5</td>\n",
       "    </tr>\n",
       "  </tbody>\n",
       "</table>\n",
       "</div>"
      ]
     },
     "execution_count": 37,
     "metadata": {},
     "output_type": "execute_result"
    }
   ],
   "execution_count": 37
  },
  {
   "metadata": {
    "ExecuteTime": {
     "end_time": "2025-07-01T08:48:17.445564Z",
     "start_time": "2025-07-01T08:48:17.412883Z"
    }
   },
   "cell_type": "code",
   "source": [
    "file_name = 'lithuanian_weather_stations_CLEANED.csv'\n",
    "full_save_path = os.path.join(data_cleaned_path, file_name)\n",
    "df_copy2.to_csv(full_save_path, index=False, encoding='utf-8')\n",
    "\n",
    "file_name = 'lithuania_coordinates_CLEANED.csv'\n",
    "full_save_path = os.path.join(data_cleaned_path, file_name)\n",
    "df_copy1.to_csv(full_save_path, index=False, encoding='utf-8')"
   ],
   "id": "20000e90be7876f2",
   "outputs": [],
   "execution_count": 64
  }
 ],
 "metadata": {
  "kernelspec": {
   "display_name": "Python 3",
   "language": "python",
   "name": "python3"
  },
  "language_info": {
   "codemirror_mode": {
    "name": "ipython",
    "version": 2
   },
   "file_extension": ".py",
   "mimetype": "text/x-python",
   "name": "python",
   "nbconvert_exporter": "python",
   "pygments_lexer": "ipython2",
   "version": "2.7.6"
  }
 },
 "nbformat": 4,
 "nbformat_minor": 5
}
